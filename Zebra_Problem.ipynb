{
  "nbformat": 4,
  "nbformat_minor": 0,
  "metadata": {
    "colab": {
      "provenance": [],
      "authorship_tag": "ABX9TyPCj3ez76sJGdvggwlAwKWC",
      "include_colab_link": true
    },
    "kernelspec": {
      "name": "python3",
      "display_name": "Python 3"
    },
    "language_info": {
      "name": "python"
    }
  },
  "cells": [
    {
      "cell_type": "markdown",
      "metadata": {
        "id": "view-in-github",
        "colab_type": "text"
      },
      "source": [
        "<a href=\"https://colab.research.google.com/github/A-Akhlaghi246/PYTHON/blob/main/Zebra_Problem.ipynb\" target=\"_parent\"><img src=\"https://colab.research.google.com/assets/colab-badge.svg\" alt=\"Open In Colab\"/></a>"
      ]
    },
    {
      "cell_type": "code",
      "execution_count": 1,
      "metadata": {
        "colab": {
          "base_uri": "https://localhost:8080/"
        },
        "id": "Pxg_d-Q1UyYQ",
        "outputId": "cc760ab5-44b8-45ae-e137-39485edd20e1"
      },
      "outputs": [
        {
          "output_type": "stream",
          "name": "stdout",
          "text": [
            "کسی که آب می‌نوشد: نروژی\n",
            "کسی که گورخر دارد: ژاپنی\n"
          ]
        }
      ],
      "source": [
        "import itertools\n",
        "\n",
        "def zebra_puzzle():\n",
        "    houses = [1, 2, 3, 4, 5]\n",
        "    orderings = list(itertools.permutations(houses))  # تمام جایگشت‌های ممکن\n",
        "\n",
        "    for red, green, ivory, yellow, blue in itertools.permutations(houses):\n",
        "        if green - ivory != 1:\n",
        "            continue  # خانه سبز باید دقیقاً سمت راست خانه سفید باشد\n",
        "\n",
        "        for englishman, spaniard, ukrainian, norwegian, japanese in itertools.permutations(houses):\n",
        "            if englishman != red:\n",
        "                continue  # انگلیسی در خانه قرمز است\n",
        "            if norwegian != 1:\n",
        "                continue  # نروژی در اولین خانه است\n",
        "            if abs(norwegian - blue) != 1:\n",
        "                continue  # نروژی کنار خانه آبی زندگی می‌کند\n",
        "\n",
        "            for coffee, tea, milk, orange_juice, water in itertools.permutations(houses):\n",
        "                if coffee != green:\n",
        "                    continue  # قهوه در خانه سبز نوشیده می‌شود\n",
        "                if ukrainian != tea:\n",
        "                    continue  # اوکراینی چای می‌نوشد\n",
        "                if milk != 3:\n",
        "                    continue  # شیر در خانه سوم نوشیده می‌شود\n",
        "\n",
        "                for old_gold, kools, chesterfields, lucky_strike, parliaments in itertools.permutations(houses):\n",
        "                    if kools != yellow:\n",
        "                        continue  # Kools در خانه زرد کشیده می‌شود\n",
        "                    if lucky_strike != orange_juice:\n",
        "                        continue  # کسی که Lucky Strike می‌کشد، آب پرتقال می‌نوشد\n",
        "                    if japanese != parliaments:\n",
        "                        continue  # ژاپنی Parliaments می‌کشد\n",
        "\n",
        "                    for dog, snails, fox, horse, zebra in itertools.permutations(houses):\n",
        "                        if spaniard != dog:\n",
        "                            continue  # اسپانیایی سگ دارد\n",
        "                        if old_gold != snails:\n",
        "                            continue  # Old Gold با حلزون‌هاست\n",
        "                        if abs(chesterfields - fox) != 1:\n",
        "                            continue  # Chesterfields کنار کسی است که روباه دارد\n",
        "                        if abs(kools - horse) != 1:\n",
        "                            continue  # Kools کنار کسی است که اسب دارد\n",
        "\n",
        "                        # اگر به اینجا برسیم، تمام شرایط برقرار است\n",
        "                        return {\n",
        "                            'آب': [person for person, place in zip(\n",
        "                                ['انگلیسی', 'اسپانیایی', 'اوکراینی', 'نروژی', 'ژاپنی'],\n",
        "                                [englishman, spaniard, ukrainian, norwegian, japanese]\n",
        "                            ) if place == water][0],\n",
        "                            'گورخر': [person for person, place in zip(\n",
        "                                ['انگلیسی', 'اسپانیایی', 'اوکراینی', 'نروژی', 'ژاپنی'],\n",
        "                                [englishman, spaniard, ukrainian, norwegian, japanese]\n",
        "                            ) if place == zebra][0]\n",
        "                        }\n",
        "\n",
        "result = zebra_puzzle()\n",
        "print(\"کسی که آب می‌نوشد:\", result['آب'])\n",
        "print(\"کسی که گورخر دارد:\", result['گورخر'])\n"
      ]
    }
  ]
}