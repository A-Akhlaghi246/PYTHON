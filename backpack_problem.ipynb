{
  "nbformat": 4,
  "nbformat_minor": 0,
  "metadata": {
    "colab": {
      "provenance": [],
      "authorship_tag": "ABX9TyNypwmdYO8p0Gef8kCo24WQ",
      "include_colab_link": true
    },
    "kernelspec": {
      "name": "python3",
      "display_name": "Python 3"
    },
    "language_info": {
      "name": "python"
    }
  },
  "cells": [
    {
      "cell_type": "markdown",
      "metadata": {
        "id": "view-in-github",
        "colab_type": "text"
      },
      "source": [
        "<a href=\"https://colab.research.google.com/github/A-Akhlaghi246/PYTHON/blob/main/backpack_problem.ipynb\" target=\"_parent\"><img src=\"https://colab.research.google.com/assets/colab-badge.svg\" alt=\"Open In Colab\"/></a>"
      ]
    },
    {
      "cell_type": "code",
      "execution_count": 1,
      "metadata": {
        "colab": {
          "base_uri": "https://localhost:8080/"
        },
        "id": "koW4kNaRXyP2",
        "outputId": "23db6653-fe9f-4f05-9f42-a6646d4bcf2f"
      },
      "outputs": [
        {
          "output_type": "stream",
          "name": "stdout",
          "text": [
            "ارزش بیشینه: 7\n",
            "آیتم‌های انتخاب شده: [0, 1]\n"
          ]
        }
      ],
      "source": [
        "def knapsack(weights, values, capacity):\n",
        "    n = len(values)\n",
        "    # جدول DP: (n+1) × (capacity+1)\n",
        "    dp = [[0] * (capacity + 1) for _ in range(n + 1)]\n",
        "\n",
        "    # پر کردن جدول\n",
        "    for i in range(1, n + 1):\n",
        "        for w in range(capacity + 1):\n",
        "            if weights[i - 1] <= w:\n",
        "                # حداکثر بین انتخاب کردن آیتم یا نکردنش\n",
        "                dp[i][w] = max(\n",
        "                    dp[i - 1][w],  # بدون این آیتم\n",
        "                    dp[i - 1][w - weights[i - 1]] + values[i - 1]  # با این آیتم\n",
        "                )\n",
        "            else:\n",
        "                dp[i][w] = dp[i - 1][w]  # آیتم جا نمی‌شه\n",
        "\n",
        "    # برای پیدا کردن آیتم‌های انتخاب‌شده:\n",
        "    selected_items = []\n",
        "    w = capacity\n",
        "    for i in range(n, 0, -1):\n",
        "        if dp[i][w] != dp[i - 1][w]:\n",
        "            selected_items.append(i - 1)\n",
        "            w -= weights[i - 1]\n",
        "\n",
        "    return dp[n][capacity], selected_items[::-1]  # max value, items used\n",
        "\n",
        "# 🎒 مثال استفاده:\n",
        "weights = [2, 3, 4, 5]\n",
        "values = [3, 4, 5, 6]\n",
        "capacity = 5\n",
        "\n",
        "max_value, items_used = knapsack(weights, values, capacity)\n",
        "print(\"ارزش بیشینه:\", max_value)\n",
        "print(\"آیتم‌های انتخاب شده:\", items_used)\n"
      ]
    }
  ]
}